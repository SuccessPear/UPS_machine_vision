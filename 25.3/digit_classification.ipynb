{
 "cells": [
  {
   "cell_type": "markdown",
   "metadata": {},
   "source": [
    "# Digit Classification"
   ]
  },
  {
   "cell_type": "markdown",
   "metadata": {},
   "source": [
    "## 1. Import library"
   ]
  },
  {
   "cell_type": "code",
   "execution_count": 1,
   "metadata": {},
   "outputs": [],
   "source": [
    "import torch\n",
    "from torch import nn\n",
    "from torch.utils.data import DataLoader\n",
    "from torchvision import datasets\n",
    "from torchvision.transforms import ToTensor\n",
    "import numpy as np\n",
    "import matplotlib.pyplot as plt"
   ]
  },
  {
   "cell_type": "markdown",
   "metadata": {},
   "source": [
    "## 2. Get the MNIST dataset"
   ]
  },
  {
   "cell_type": "code",
   "execution_count": 2,
   "metadata": {},
   "outputs": [],
   "source": [
    "training_data = datasets.MNIST(\n",
    "    root=\"data\",\n",
    "    train=True,\n",
    "    download=True,\n",
    "    transform=ToTensor()\n",
    ")\n",
    "\n",
    "test_data = datasets.MNIST(\n",
    "    root=\"data\",\n",
    "    train=False,\n",
    "    download=True,\n",
    "    transform=ToTensor()\n",
    ")"
   ]
  },
  {
   "cell_type": "code",
   "execution_count": 3,
   "metadata": {},
   "outputs": [
    {
     "name": "stdout",
     "output_type": "stream",
     "text": [
      "Shape of X [N, C, H, W]: torch.Size([64, 1, 28, 28])\n",
      "Shape of y: torch.Size([64]) torch.int64\n",
      "tensor([7, 2, 1, 0, 4, 1, 4, 9, 5, 9, 0, 6, 9, 0, 1, 5, 9, 7, 3, 4, 9, 6, 6, 5,\n",
      "        4, 0, 7, 4, 0, 1, 3, 1, 3, 4, 7, 2, 7, 1, 2, 1, 1, 7, 4, 2, 3, 5, 1, 2,\n",
      "        4, 4, 6, 3, 5, 5, 6, 0, 4, 1, 9, 5, 7, 8, 9, 3])\n"
     ]
    }
   ],
   "source": [
    "BATCH_SIZE = 64\n",
    "\n",
    "# Create dataloader\n",
    "train_dl = DataLoader(training_data, batch_size=BATCH_SIZE)\n",
    "test_dl = DataLoader(test_data, batch_size=BATCH_SIZE)\n",
    "\n",
    "for X, y in test_dl:\n",
    "    print(f\"Shape of X [N, C, H, W]: {X.shape}\")\n",
    "    print(f\"Shape of y: {y.shape} {y.dtype}\")\n",
    "    print(y)\n",
    "    break"
   ]
  },
  {
   "cell_type": "markdown",
   "metadata": {},
   "source": [
    "Device agnostic code"
   ]
  },
  {
   "cell_type": "code",
   "execution_count": 4,
   "metadata": {},
   "outputs": [
    {
     "data": {
      "text/plain": [
       "'cpu'"
      ]
     },
     "execution_count": 4,
     "metadata": {},
     "output_type": "execute_result"
    }
   ],
   "source": [
    "device = \"cuda\" if torch.cuda.is_available() else \"cpu\"\n",
    "device"
   ]
  },
  {
   "cell_type": "markdown",
   "metadata": {},
   "source": [
    "# 3. Create model"
   ]
  },
  {
   "cell_type": "code",
   "execution_count": 5,
   "metadata": {},
   "outputs": [],
   "source": [
    "class MyFirstCNN(nn.Module):\n",
    "    def __init__(self):\n",
    "        super().__init__()\n",
    "        self.flatten = nn.Flatten()\n",
    "        self.linear_relu_stack = nn.Sequential(\n",
    "            nn.Linear(28*28, 512),\n",
    "            nn.ReLU(),\n",
    "            nn.Linear(512, 512),\n",
    "            nn.ReLU(),\n",
    "            nn.Linear(512, 10)\n",
    "        )\n",
    "    def forward(self, x):\n",
    "        x = self.flatten(x)\n",
    "        return self.linear_relu_stack(x)"
   ]
  },
  {
   "cell_type": "code",
   "execution_count": 6,
   "metadata": {},
   "outputs": [],
   "source": [
    "cnn_model0 = MyFirstCNN().to(device)"
   ]
  },
  {
   "cell_type": "code",
   "execution_count": 7,
   "metadata": {},
   "outputs": [],
   "source": [
    "class MySecondCNN(nn.Module):\n",
    "    def __init__(self):\n",
    "        super().__init__()\n",
    "        self.linear_relu_stack = nn.Sequential( # 1*28*28\n",
    "            nn.Conv2d(kernel_size=3,\n",
    "                      in_channels=1,\n",
    "                      out_channels=8), # 8*26*26\n",
    "            nn.MaxPool2d(kernel_size=2), # 8*13*13\n",
    "            nn.Conv2d(kernel_size=3,\n",
    "                      in_channels=8,\n",
    "                      out_channels=16), # 16*11*11\n",
    "            nn.MaxPool2d(kernel_size=2), # 16*5*5\n",
    "            nn.Flatten(),\n",
    "            nn.Linear(16*5*5, 256),\n",
    "            nn.ReLU(),\n",
    "            nn.Linear(256, 10)\n",
    "        )\n",
    "    def forward(self, x):\n",
    "        return self.linear_relu_stack(x)"
   ]
  },
  {
   "cell_type": "code",
   "execution_count": 8,
   "metadata": {},
   "outputs": [],
   "source": [
    "cnn_model2 = MySecondCNN().to(device)"
   ]
  },
  {
   "cell_type": "code",
   "execution_count": 9,
   "metadata": {},
   "outputs": [],
   "source": [
    "class MyFlatten(nn.Module):\n",
    "    def forward(self, input):\n",
    "        return input.view(input.size(0), -1)"
   ]
  },
  {
   "cell_type": "code",
   "execution_count": 10,
   "metadata": {},
   "outputs": [],
   "source": [
    "class Lernet5(nn.Module):\n",
    "    def __init__(self):\n",
    "        super().__init__()\n",
    "        self.linear_relu_stack = nn.Sequential( # 1*28*28\n",
    "            nn.Conv2d(kernel_size=5,\n",
    "                      in_channels=1,\n",
    "                      out_channels=6), # 6*24*24\n",
    "            nn.MaxPool2d(kernel_size=2,\n",
    "                         stride=2), # 6*12*12\n",
    "            nn.Conv2d(kernel_size=5,\n",
    "                      in_channels=6,\n",
    "                      out_channels=16), # 16*8*8\n",
    "            nn.MaxPool2d(kernel_size=2,\n",
    "                         stride=2), # 16*4*4\n",
    "            MyFlatten(),\n",
    "            nn.Linear(16*4*4, 120),\n",
    "            nn.ReLU(),\n",
    "            nn.Linear(120, 84),\n",
    "            nn.ReLU(),\n",
    "            nn.Linear(84, 10)\n",
    "        )\n",
    "    def forward(self, x):\n",
    "        return self.linear_relu_stack(x)\n",
    "\n",
    "lernet_model = Lernet5().to(device)"
   ]
  },
  {
   "cell_type": "markdown",
   "metadata": {},
   "source": [
    "# 4. Define loss and optimizer"
   ]
  },
  {
   "cell_type": "code",
   "execution_count": 12,
   "metadata": {},
   "outputs": [],
   "source": [
    "loss_fn = nn.CrossEntropyLoss()\n",
    "optimizer = torch.optim.SGD(lernet_model.parameters(),\n",
    "                            lr=1e-3)"
   ]
  },
  {
   "cell_type": "markdown",
   "metadata": {},
   "source": [
    "# 5. Create train and test step"
   ]
  },
  {
   "cell_type": "code",
   "execution_count": 12,
   "metadata": {},
   "outputs": [],
   "source": [
    "import torch.utils\n",
    "import torch.utils.data\n",
    "\n",
    "\n",
    "def train_step(dataloader: torch.utils.data.DataLoader,\n",
    "               model: torch.nn.Module,\n",
    "               loss_fn,\n",
    "               optimizer: torch.optim.Optimizer,\n",
    "               device: torch.device = \"cpu\"):\n",
    "    size = len(dataloader.dataset)\n",
    "    \n",
    "    model.train()\n",
    "    total_loss = 0\n",
    "    for batch, (X, y) in enumerate(dataloader):\n",
    "        X = X.to(device)\n",
    "        y = y.to(device)\n",
    "        \n",
    "        # 1. Forward\n",
    "        logits = model(X)\n",
    "        \n",
    "        # 2. Calculate loss\n",
    "        loss = loss_fn(logits, y)\n",
    "        total_loss += loss\n",
    "        \n",
    "        # 3. Backpropagation\n",
    "        loss.backward()\n",
    "        \n",
    "        # 4. Optimizer step\n",
    "        optimizer.step()\n",
    "        \n",
    "        # 5. Zero grad\n",
    "        optimizer.zero_grad()\n",
    "        if batch % 100 == 0:\n",
    "            loss, current = loss.item(), (batch + 1) * len(X)\n",
    "            print(f\"loss: {loss:>7f}  [{current:>5d}/{size:>5d}]\")\n",
    "    total_loss /= len(dataloader)\n",
    "    return total_loss\n",
    "\n",
    "def test_step(dataloader: torch.utils.data.DataLoader,\n",
    "               model: torch.nn.Module,\n",
    "               loss_fn,\n",
    "               device: torch.device = \"cpu\"):\n",
    "    size = len(dataloader.dataset)\n",
    "    num_batches = len(dataloader)\n",
    "    model.eval()\n",
    "    test_loss, correct = 0, 0\n",
    "    with torch.inference_mode():\n",
    "        for X, y in dataloader:\n",
    "            X = X.to(device)\n",
    "            y = y.to(device)\n",
    "            pred = model(X)\n",
    "            test_loss += loss_fn(pred, y).item()\n",
    "            correct += (pred.argmax(1) == y).type(torch.float).sum().item()\n",
    "    \n",
    "    test_loss /= num_batches\n",
    "    correct /= size\n",
    "    print(f\"Test Error: \\n Accuracy: {(100*correct):>0.1f}%, Avg loss: {test_loss:>8f} \\n\")\n",
    "    return test_loss, correct\n",
    "        \n",
    "        "
   ]
  },
  {
   "cell_type": "markdown",
   "metadata": {},
   "source": [
    "# 6.Train the model"
   ]
  },
  {
   "cell_type": "code",
   "execution_count": 71,
   "metadata": {},
   "outputs": [
    {
     "name": "stdout",
     "output_type": "stream",
     "text": [
      "Epoch 1\n",
      "-------------------------------\n",
      "loss: 2.306656  [   64/60000]\n",
      "loss: 2.294912  [ 6464/60000]\n",
      "loss: 2.306729  [12864/60000]\n",
      "loss: 2.296845  [19264/60000]\n",
      "loss: 2.311276  [25664/60000]\n",
      "loss: 2.305921  [32064/60000]\n",
      "loss: 2.305851  [38464/60000]\n",
      "loss: 2.306609  [44864/60000]\n",
      "loss: 2.302669  [51264/60000]\n",
      "loss: 2.293748  [57664/60000]\n",
      "Test Error: \n",
      " Accuracy: 11.6%, Avg loss: 2.300711 \n",
      "\n",
      "Epoch 2\n",
      "-------------------------------\n",
      "loss: 2.302303  [   64/60000]\n",
      "loss: 2.291965  [ 6464/60000]\n",
      "loss: 2.303299  [12864/60000]\n",
      "loss: 2.294426  [19264/60000]\n",
      "loss: 2.307545  [25664/60000]\n",
      "loss: 2.303183  [32064/60000]\n",
      "loss: 2.301013  [38464/60000]\n",
      "loss: 2.304334  [44864/60000]\n",
      "loss: 2.299882  [51264/60000]\n",
      "loss: 2.290132  [57664/60000]\n",
      "Test Error: \n",
      " Accuracy: 16.8%, Avg loss: 2.297288 \n",
      "\n",
      "Epoch 3\n",
      "-------------------------------\n",
      "loss: 2.298337  [   64/60000]\n",
      "loss: 2.288864  [ 6464/60000]\n",
      "loss: 2.299785  [12864/60000]\n",
      "loss: 2.291998  [19264/60000]\n",
      "loss: 2.303852  [25664/60000]\n",
      "loss: 2.300149  [32064/60000]\n",
      "loss: 2.296173  [38464/60000]\n",
      "loss: 2.301563  [44864/60000]\n",
      "loss: 2.296693  [51264/60000]\n",
      "loss: 2.286514  [57664/60000]\n",
      "Test Error: \n",
      " Accuracy: 16.7%, Avg loss: 2.293462 \n",
      "\n",
      "Epoch 4\n",
      "-------------------------------\n",
      "loss: 2.294028  [   64/60000]\n",
      "loss: 2.285175  [ 6464/60000]\n",
      "loss: 2.296144  [12864/60000]\n",
      "loss: 2.288669  [19264/60000]\n",
      "loss: 2.299514  [25664/60000]\n",
      "loss: 2.296370  [32064/60000]\n",
      "loss: 2.290532  [38464/60000]\n",
      "loss: 2.297919  [44864/60000]\n",
      "loss: 2.292304  [51264/60000]\n",
      "loss: 2.282438  [57664/60000]\n",
      "Test Error: \n",
      " Accuracy: 16.9%, Avg loss: 2.288605 \n",
      "\n",
      "Epoch 5\n",
      "-------------------------------\n",
      "loss: 2.288581  [   64/60000]\n",
      "loss: 2.279923  [ 6464/60000]\n",
      "loss: 2.291844  [12864/60000]\n",
      "loss: 2.283862  [19264/60000]\n",
      "loss: 2.293697  [25664/60000]\n",
      "loss: 2.291296  [32064/60000]\n",
      "loss: 2.283445  [38464/60000]\n",
      "loss: 2.292847  [44864/60000]\n",
      "loss: 2.286232  [51264/60000]\n",
      "loss: 2.276812  [57664/60000]\n",
      "Test Error: \n",
      " Accuracy: 19.3%, Avg loss: 2.281854 \n",
      "\n",
      "Epoch 6\n",
      "-------------------------------\n",
      "loss: 2.281234  [   64/60000]\n",
      "loss: 2.272341  [ 6464/60000]\n",
      "loss: 2.285784  [12864/60000]\n",
      "loss: 2.276869  [19264/60000]\n",
      "loss: 2.285492  [25664/60000]\n",
      "loss: 2.283745  [32064/60000]\n",
      "loss: 2.273347  [38464/60000]\n",
      "loss: 2.285022  [44864/60000]\n",
      "loss: 2.277349  [51264/60000]\n",
      "loss: 2.268217  [57664/60000]\n",
      "Test Error: \n",
      " Accuracy: 29.4%, Avg loss: 2.271856 \n",
      "\n",
      "Epoch 7\n",
      "-------------------------------\n",
      "loss: 2.270879  [   64/60000]\n",
      "loss: 2.260845  [ 6464/60000]\n",
      "loss: 2.276317  [12864/60000]\n",
      "loss: 2.265968  [19264/60000]\n",
      "loss: 2.273356  [25664/60000]\n",
      "loss: 2.271851  [32064/60000]\n",
      "loss: 2.258106  [38464/60000]\n",
      "loss: 2.272526  [44864/60000]\n",
      "loss: 2.262949  [51264/60000]\n",
      "loss: 2.253999  [57664/60000]\n",
      "Test Error: \n",
      " Accuracy: 41.4%, Avg loss: 2.255491 \n",
      "\n",
      "Epoch 8\n",
      "-------------------------------\n",
      "loss: 2.254414  [   64/60000]\n",
      "loss: 2.241241  [ 6464/60000]\n",
      "loss: 2.260479  [12864/60000]\n",
      "loss: 2.247034  [19264/60000]\n",
      "loss: 2.252413  [25664/60000]\n",
      "loss: 2.249937  [32064/60000]\n",
      "loss: 2.230230  [38464/60000]\n",
      "loss: 2.249248  [44864/60000]\n",
      "loss: 2.235671  [51264/60000]\n",
      "loss: 2.225180  [57664/60000]\n",
      "Test Error: \n",
      " Accuracy: 48.6%, Avg loss: 2.222785 \n",
      "\n",
      "Epoch 9\n",
      "-------------------------------\n",
      "loss: 2.221510  [   64/60000]\n",
      "loss: 2.201212  [ 6464/60000]\n",
      "loss: 2.227626  [12864/60000]\n",
      "loss: 2.205503  [19264/60000]\n",
      "loss: 2.205761  [25664/60000]\n",
      "loss: 2.199067  [32064/60000]\n",
      "loss: 2.163904  [38464/60000]\n",
      "loss: 2.193014  [44864/60000]\n",
      "loss: 2.168244  [51264/60000]\n",
      "loss: 2.149080  [57664/60000]\n",
      "Test Error: \n",
      " Accuracy: 48.8%, Avg loss: 2.138618 \n",
      "\n",
      "Epoch 10\n",
      "-------------------------------\n",
      "loss: 2.137903  [   64/60000]\n",
      "loss: 2.095248  [ 6464/60000]\n",
      "loss: 2.137009  [12864/60000]\n",
      "loss: 2.084810  [19264/60000]\n",
      "loss: 2.069139  [25664/60000]\n",
      "loss: 2.044339  [32064/60000]\n",
      "loss: 1.954464  [38464/60000]\n",
      "loss: 2.014119  [44864/60000]\n",
      "loss: 1.939943  [51264/60000]\n",
      "loss: 1.866702  [57664/60000]\n",
      "Test Error: \n",
      " Accuracy: 58.8%, Avg loss: 1.840011 \n",
      "\n",
      "Epoch 11\n",
      "-------------------------------\n",
      "loss: 1.854556  [   64/60000]\n",
      "loss: 1.710457  [ 6464/60000]\n",
      "loss: 1.771769  [12864/60000]\n",
      "loss: 1.625424  [19264/60000]\n",
      "loss: 1.551303  [25664/60000]\n",
      "loss: 1.469917  [32064/60000]\n",
      "loss: 1.268542  [38464/60000]\n",
      "loss: 1.447807  [44864/60000]\n",
      "loss: 1.265538  [51264/60000]\n",
      "loss: 1.154191  [57664/60000]\n",
      "Test Error: \n",
      " Accuracy: 73.9%, Avg loss: 1.095056 \n",
      "\n",
      "Epoch 12\n",
      "-------------------------------\n",
      "loss: 1.198421  [   64/60000]\n",
      "loss: 0.936297  [ 6464/60000]\n",
      "loss: 1.022600  [12864/60000]\n",
      "loss: 0.880606  [19264/60000]\n",
      "loss: 0.866056  [25664/60000]\n",
      "loss: 0.831870  [32064/60000]\n",
      "loss: 0.723743  [38464/60000]\n",
      "loss: 0.931441  [44864/60000]\n",
      "loss: 0.833965  [51264/60000]\n",
      "loss: 0.783580  [57664/60000]\n",
      "Test Error: \n",
      " Accuracy: 79.9%, Avg loss: 0.698474 \n",
      "\n",
      "Epoch 13\n",
      "-------------------------------\n",
      "loss: 0.842574  [   64/60000]\n",
      "loss: 0.580031  [ 6464/60000]\n",
      "loss: 0.632791  [12864/60000]\n",
      "loss: 0.590869  [19264/60000]\n",
      "loss: 0.614629  [25664/60000]\n",
      "loss: 0.595690  [32064/60000]\n",
      "loss: 0.519994  [38464/60000]\n",
      "loss: 0.686107  [44864/60000]\n",
      "loss: 0.652561  [51264/60000]\n",
      "loss: 0.637944  [57664/60000]\n",
      "Test Error: \n",
      " Accuracy: 83.9%, Avg loss: 0.540627 \n",
      "\n",
      "Epoch 14\n",
      "-------------------------------\n",
      "loss: 0.683925  [   64/60000]\n",
      "loss: 0.453921  [ 6464/60000]\n",
      "loss: 0.469840  [12864/60000]\n",
      "loss: 0.486199  [19264/60000]\n",
      "loss: 0.504021  [25664/60000]\n",
      "loss: 0.505392  [32064/60000]\n",
      "loss: 0.407471  [38464/60000]\n",
      "loss: 0.566435  [44864/60000]\n",
      "loss: 0.546837  [51264/60000]\n",
      "loss: 0.560925  [57664/60000]\n",
      "Test Error: \n",
      " Accuracy: 86.3%, Avg loss: 0.458821 \n",
      "\n",
      "Epoch 15\n",
      "-------------------------------\n",
      "loss: 0.593085  [   64/60000]\n",
      "loss: 0.389527  [ 6464/60000]\n",
      "loss: 0.388242  [12864/60000]\n",
      "loss: 0.425883  [19264/60000]\n",
      "loss: 0.437972  [25664/60000]\n",
      "loss: 0.462900  [32064/60000]\n",
      "loss: 0.337464  [38464/60000]\n",
      "loss: 0.502467  [44864/60000]\n",
      "loss: 0.482595  [51264/60000]\n",
      "loss: 0.513740  [57664/60000]\n",
      "Test Error: \n",
      " Accuracy: 87.9%, Avg loss: 0.409538 \n",
      "\n",
      "Epoch 16\n",
      "-------------------------------\n",
      "loss: 0.532016  [   64/60000]\n",
      "loss: 0.351617  [ 6464/60000]\n",
      "loss: 0.337975  [12864/60000]\n",
      "loss: 0.390078  [19264/60000]\n",
      "loss: 0.393278  [25664/60000]\n",
      "loss: 0.435468  [32064/60000]\n",
      "loss: 0.290310  [38464/60000]\n",
      "loss: 0.462785  [44864/60000]\n",
      "loss: 0.436328  [51264/60000]\n",
      "loss: 0.477270  [57664/60000]\n",
      "Test Error: \n",
      " Accuracy: 88.9%, Avg loss: 0.375380 \n",
      "\n",
      "Epoch 17\n",
      "-------------------------------\n",
      "loss: 0.484778  [   64/60000]\n",
      "loss: 0.322679  [ 6464/60000]\n",
      "loss: 0.300467  [12864/60000]\n",
      "loss: 0.368222  [19264/60000]\n",
      "loss: 0.359733  [25664/60000]\n",
      "loss: 0.412655  [32064/60000]\n",
      "loss: 0.256010  [38464/60000]\n",
      "loss: 0.436901  [44864/60000]\n",
      "loss: 0.399907  [51264/60000]\n",
      "loss: 0.443814  [57664/60000]\n",
      "Test Error: \n",
      " Accuracy: 89.6%, Avg loss: 0.349162 \n",
      "\n",
      "Epoch 18\n",
      "-------------------------------\n",
      "loss: 0.445959  [   64/60000]\n",
      "loss: 0.302793  [ 6464/60000]\n",
      "loss: 0.269230  [12864/60000]\n",
      "loss: 0.354396  [19264/60000]\n",
      "loss: 0.330060  [25664/60000]\n",
      "loss: 0.391587  [32064/60000]\n",
      "loss: 0.230029  [38464/60000]\n",
      "loss: 0.416721  [44864/60000]\n",
      "loss: 0.370134  [51264/60000]\n",
      "loss: 0.414332  [57664/60000]\n",
      "Test Error: \n",
      " Accuracy: 90.0%, Avg loss: 0.327979 \n",
      "\n",
      "Epoch 19\n",
      "-------------------------------\n",
      "loss: 0.411222  [   64/60000]\n",
      "loss: 0.286507  [ 6464/60000]\n",
      "loss: 0.244021  [12864/60000]\n",
      "loss: 0.345725  [19264/60000]\n",
      "loss: 0.307621  [25664/60000]\n",
      "loss: 0.370458  [32064/60000]\n",
      "loss: 0.211010  [38464/60000]\n",
      "loss: 0.400015  [44864/60000]\n",
      "loss: 0.345373  [51264/60000]\n",
      "loss: 0.389573  [57664/60000]\n",
      "Test Error: \n",
      " Accuracy: 90.5%, Avg loss: 0.310354 \n",
      "\n",
      "Epoch 20\n",
      "-------------------------------\n",
      "loss: 0.382334  [   64/60000]\n",
      "loss: 0.272593  [ 6464/60000]\n",
      "loss: 0.223662  [12864/60000]\n",
      "loss: 0.339031  [19264/60000]\n",
      "loss: 0.289634  [25664/60000]\n",
      "loss: 0.349770  [32064/60000]\n",
      "loss: 0.194300  [38464/60000]\n",
      "loss: 0.388108  [44864/60000]\n",
      "loss: 0.323578  [51264/60000]\n",
      "loss: 0.369803  [57664/60000]\n",
      "Test Error: \n",
      " Accuracy: 91.0%, Avg loss: 0.294768 \n",
      "\n",
      "Done!\n"
     ]
    }
   ],
   "source": [
    "epochs = 20\n",
    "train_loss_history = []\n",
    "test_loss_history = []\n",
    "test_accuracy_history = []\n",
    "for t in range(epochs):\n",
    "    print(f\"Epoch {t+1}\\n-------------------------------\")\n",
    "    train_loss = train_step(dataloader=train_dl,\n",
    "                            model=lernet_model,\n",
    "                            loss_fn=loss_fn,\n",
    "                            optimizer=optimizer,\n",
    "                            device=device)\n",
    "    test_loss, accuracy = test_step(dataloader=test_dl,\n",
    "                            model=lernet_model,\n",
    "                            loss_fn=loss_fn,\n",
    "                            device=device)\n",
    "    train_loss_history.append(train_loss)\n",
    "    test_loss_history.append(test_loss)\n",
    "    test_accuracy_history.append(accuracy)\n",
    "print(\"Done!\")"
   ]
  },
  {
   "cell_type": "code",
   "execution_count": 73,
   "metadata": {},
   "outputs": [
    {
     "data": {
      "text/plain": [
       "<matplotlib.legend.Legend at 0x225d5adf0d0>"
      ]
     },
     "execution_count": 73,
     "metadata": {},
     "output_type": "execute_result"
    },
    {
     "data": {
      "image/png": "[encoded data removed]",
      "text/plain": [
       "<Figure size 640x480 with 1 Axes>"
      ]
     },
     "metadata": {},
     "output_type": "display_data"
    }
   ],
   "source": [
    "import matplotlib.pyplot as plt\n",
    "import numpy as np\n",
    "train_loss_history_tensor = torch.Tensor(train_loss_history).cpu()\n",
    "test_loss_history_tensor = torch.Tensor(test_loss_history).cpu()\n",
    "plt.plot(np.arange(1,epochs+1), train_loss_history_tensor, marker='x')\n",
    "plt.plot(np.arange(1,epochs+1), test_loss_history_tensor, marker='o')\n",
    "plt.xlabel(\"Epoch\")\n",
    "plt.ylabel(\"Loss\")\n",
    "plt.title(\"Train and test loss\")\n",
    "plt.legend([\"Train\", \"Test\"])"
   ]
  },
  {
   "cell_type": "code",
   "execution_count": 74,
   "metadata": {},
   "outputs": [
    {
     "data": {
      "text/plain": [
       "Text(0.5, 1.0, 'Test accuracy')"
      ]
     },
     "execution_count": 74,
     "metadata": {},
     "output_type": "execute_result"
    },
    {
     "data": {
      "image/png": "[encoded data removed]",
      "text/plain": [
       "<Figure size 640x480 with 1 Axes>"
      ]
     },
     "metadata": {},
     "output_type": "display_data"
    }
   ],
   "source": [
    "test_accuracy_history_tensor = torch.Tensor(test_accuracy_history).cpu()\n",
    "plt.plot(np.arange(1,epochs+1), test_accuracy_history_tensor)\n",
    "plt.xlabel(\"Epoch\")\n",
    "plt.ylabel(\"Accuracy\")\n",
    "plt.title(\"Test accuracy\")"
   ]
  },
  {
   "cell_type": "markdown",
   "metadata": {},
   "source": [
    "# 7. Save models"
   ]
  },
  {
   "cell_type": "code",
   "execution_count": 13,
   "metadata": {},
   "outputs": [
    {
     "name": "stdout",
     "output_type": "stream",
     "text": [
      "saved Pytorch model state to the lernet5_model.pth\n"
     ]
    }
   ],
   "source": [
    "torch.save(lernet_model.state_dict(), \"lernet5_model.pth\")\n",
    "print(\"saved Pytorch model state to the lernet5_model.pth\")"
   ]
  },
  {
   "cell_type": "markdown",
   "metadata": {},
   "source": [
    "# 8. Loading models"
   ]
  },
  {
   "cell_type": "code",
   "execution_count": 8,
   "metadata": {},
   "outputs": [
    {
     "data": {
      "text/plain": [
       "<All keys matched successfully>"
      ]
     },
     "execution_count": 8,
     "metadata": {},
     "output_type": "execute_result"
    }
   ],
   "source": [
    "model = MySecondCNN().to(device)\n",
    "model.load_state_dict(torch.load(\"cnn_model2.pth\", weights_only=True))"
   ]
  },
  {
   "cell_type": "code",
   "execution_count": 9,
   "metadata": {},
   "outputs": [
    {
     "name": "stdout",
     "output_type": "stream",
     "text": [
      "MySecondCNN(\n",
      "  (linear_relu_stack): Sequential(\n",
      "    (0): Conv2d(1, 8, kernel_size=(3, 3), stride=(1, 1))\n",
      "    (1): MaxPool2d(kernel_size=2, stride=2, padding=0, dilation=1, ceil_mode=False)\n",
      "    (2): Conv2d(8, 16, kernel_size=(3, 3), stride=(1, 1))\n",
      "    (3): MaxPool2d(kernel_size=2, stride=2, padding=0, dilation=1, ceil_mode=False)\n",
      "    (4): Flatten(start_dim=1, end_dim=-1)\n",
      "    (5): Linear(in_features=400, out_features=256, bias=True)\n",
      "    (6): ReLU()\n",
      "    (7): Linear(in_features=256, out_features=10, bias=True)\n",
      "  )\n",
      ")\n"
     ]
    }
   ],
   "source": [
    "print(model)"
   ]
  },
  {
   "cell_type": "code",
   "execution_count": 10,
   "metadata": {},
   "outputs": [
    {
     "name": "stdout",
     "output_type": "stream",
     "text": [
      "Predicted: \"3\", Actual: \"3\"\n"
     ]
    }
   ],
   "source": [
    "model.eval()\n",
    "idx = 30\n",
    "\n",
    "x, y = test_data[idx][0], test_data[idx][1]\n",
    "\n",
    "x = x[np.newaxis, :]\n",
    "\n",
    "with torch.inference_mode():\n",
    "    x = x.to(device)\n",
    "    pred = model(x)\n",
    "    predicted, actual = pred[0].argmax(0), y\n",
    "    print(f'Predicted: \"{predicted}\", Actual: \"{actual}\"')\n"
   ]
  },
  {
   "cell_type": "code",
   "execution_count": 11,
   "metadata": {},
   "outputs": [
    {
     "data": {
      "text/plain": [
       "Text(0.5, 1.0, 'Prediction: 3')"
      ]
     },
     "execution_count": 11,
     "metadata": {},
     "output_type": "execute_result"
    },
    {
     "data": {
      "image/png": "[encoded data removed]",
      "text/plain": [
       "<Figure size 640x480 with 1 Axes>"
      ]
     },
     "metadata": {},
     "output_type": "display_data"
    }
   ],
   "source": [
    "from PIL import Image\n",
    "plt.imshow(x[0].reshape(28,28,1))\n",
    "plt.title(f\"Prediction: {predicted}\")"
   ]
  },
  {
   "cell_type": "markdown",
   "metadata": {},
   "source": [
    "# 9. Plot feature map"
   ]
  },
  {
   "cell_type": "code",
   "execution_count": 12,
   "metadata": {},
   "outputs": [
    {
     "name": "stdout",
     "output_type": "stream",
     "text": [
      "Total convolution layers: 2\n",
      "conv_layers\n"
     ]
    }
   ],
   "source": [
    "model_weights =[]\n",
    "#we will save the 49 conv layers in this list\n",
    "conv_layers = []\n",
    "\n",
    "# get all the model children as list\n",
    "model_children = list(model.children())\n",
    "#counter to keep count of the conv layers\n",
    "counter = 0\n",
    "#append all the conv layers and their respective wights to the list\n",
    "for i in range(len(model_children)):\n",
    "    if type(model_children[i]) == nn.Conv2d:\n",
    "        counter+=1\n",
    "        model_weights.append(model_children[i].weight)\n",
    "        conv_layers.append(model_children[i])\n",
    "    elif type(model_children[i]) == nn.Sequential:\n",
    "        for j in range(len(model_children[i])):\n",
    "            if type(model_children[i][j]) == nn.Conv2d:\n",
    "                counter+=1\n",
    "                model_weights.append(model_children[i][j].weight)\n",
    "                conv_layers.append(model_children[i][j])\n",
    "print(f\"Total convolution layers: {counter}\")\n",
    "print(\"conv_layers\")\n"
   ]
  },
  {
   "cell_type": "code",
   "execution_count": 13,
   "metadata": {},
   "outputs": [
    {
     "name": "stdout",
     "output_type": "stream",
     "text": [
      "2\n",
      "torch.Size([1, 8, 26, 26])\n",
      "torch.Size([1, 16, 24, 24])\n"
     ]
    }
   ],
   "source": [
    "outputs = []\n",
    "names = []\n",
    "image = x\n",
    "for layer in conv_layers:\n",
    "    image = layer(image)\n",
    "    outputs.append(image)\n",
    "    names.append(str(layer))\n",
    "print(len(outputs))\n",
    "#print feature_maps\n",
    "for feature_map in outputs:\n",
    "    print(feature_map.shape)"
   ]
  },
  {
   "cell_type": "code",
   "execution_count": 14,
   "metadata": {},
   "outputs": [
    {
     "name": "stdout",
     "output_type": "stream",
     "text": [
      "(26, 26)\n",
      "(24, 24)\n"
     ]
    }
   ],
   "source": [
    "processed = []\n",
    "for feature_map in outputs:\n",
    "    feature_map = feature_map.squeeze(0)\n",
    "    gray_scale = torch.sum(feature_map,0)\n",
    "    gray_scale = gray_scale / feature_map.shape[0]\n",
    "    processed.append(gray_scale.data.cpu().numpy())\n",
    "for fm in processed:\n",
    "    print(fm.shape)"
   ]
  },
  {
   "cell_type": "code",
   "execution_count": 15,
   "metadata": {},
   "outputs": [
    {
     "data": {
      "image/png": "[encoded data removed]",
      "text/plain": [
       "<Figure size 2000x3000 with 2 Axes>"
      ]
     },
     "metadata": {},
     "output_type": "display_data"
    }
   ],
   "source": [
    "fig = plt.figure(figsize=(20, 30))\n",
    "for i in range(len(processed)):\n",
    "    a = fig.add_subplot(5, 4, i+1)\n",
    "    imgplot = plt.imshow(processed[i])\n",
    "    #a.axis(\"off\")\n",
    "    a.set_title(names[i].split('(')[0], fontsize=20)\n",
    "plt.savefig(str('feature_maps.jpg'), bbox_inches='tight')"
   ]
  },
  {
   "cell_type": "code",
   "execution_count": null,
   "metadata": {},
   "outputs": [],
   "source": []
  }
 ],
 "metadata": {
  "kernelspec": {
   "display_name": "Face-mask-detection-env",
   "language": "python",
   "name": "python3"
  },
  "language_info": {
   "codemirror_mode": {
    "name": "ipython",
    "version": 3
   },
   "file_extension": ".py",
   "mimetype": "text/x-python",
   "name": "python",
   "nbconvert_exporter": "python",
   "pygments_lexer": "ipython3",
   "version": "3.11.11"
  }
 },
 "nbformat": 4,
 "nbformat_minor": 2
}
